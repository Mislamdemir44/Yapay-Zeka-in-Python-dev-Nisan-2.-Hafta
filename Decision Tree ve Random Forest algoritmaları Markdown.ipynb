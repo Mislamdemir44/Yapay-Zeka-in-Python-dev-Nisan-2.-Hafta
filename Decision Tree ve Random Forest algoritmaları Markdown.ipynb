{
 "cells": [
  {
   "cell_type": "markdown",
   "id": "1a461c94-0884-4644-889b-6b9b4bcfc9be",
   "metadata": {},
   "source": [
    "Karar Ağaçları ve Rastgele Orman Algoritmaları"
   ]
  },
  {
   "cell_type": "markdown",
   "id": "96a69afd-ee4b-432b-9e49-eb31cb942d24",
   "metadata": {},
   "source": [
    "Karar ağaçları ve rastgele orman, makine öğrenmesinde sıkça kullanılan güçlü algoritmalardır. Bu algoritmaların nasıl çalıştıklarını, avantajlarını, dezavantajlarını ve uygulama alanlarını inceleyelim."
   ]
  },
  {
   "cell_type": "markdown",
   "id": "3b3b67c1-6ca1-4944-8421-6e5da8ef3695",
   "metadata": {},
   "source": [
    "Karar Ağaçları (Decision Trees)"
   ]
  },
  {
   "cell_type": "markdown",
   "id": "2b9d59c9-2bd9-497a-90cb-23fdee27ca50",
   "metadata": {},
   "source": [
    "Karar ağaçları, veri setini özelliklere göre bölen, sınıflandırma ve regresyon problemlerinde kullanılan bir makine öğrenmesi algoritmasıdır."
   ]
  },
  {
   "cell_type": "markdown",
   "id": "e17ef46a-b6bd-40e5-a35c-d8f263f7c04f",
   "metadata": {},
   "source": [
    "Çalışma Prensibi\n",
    "\n",
    "Kök Düğüm: Tüm veri setini içeren başlangıç noktası\n",
    "Bölünme: Veri setini en iyi şekilde ayıran özelliğin seçilmesi\n",
    "Karar Düğümleri: Her bir bölünmenin sonucu olan ara düğümler\n",
    "Yaprak Düğümler: Sonuç sınıflarını veya değerlerini içeren son düğümler\n",
    "\n",
    "Bölünme Kriterleri\n",
    "\n",
    "Sınıflandırma için:\n",
    "\n",
    "Gini safsızlık indeksi\n",
    "Entropi ve Bilgi Kazancı\n",
    "\n",
    "\n",
    "Regresyon için:\n",
    "\n",
    "Ortalama Kare Hata (MSE)\n",
    "Ortalama Mutlak Hata (MAE)\n",
    "\n",
    "\n",
    "\n",
    "Avantajları\n",
    "\n",
    "Kolay anlaşılabilir ve yorumlanabilir\n",
    "Veri hazırlığı çok gerektirmez (normalizasyon gerekli değil)\n",
    "Sayısal ve kategorik verileri işleyebilir\n",
    "Büyük veri kümeleriyle hızlı çalışır\n",
    "\n",
    "Dezavantajları\n",
    "\n",
    "Aşırı öğrenme (overfitting) eğilimi yüksektir\n",
    "Küçük varyasyonlarda bile farklı ağaçlar oluşabilir\n",
    "Dengeli veri setleri üretemeyebilir\n",
    "Karmaşık ilişkileri yakalamakta zorlanabilir"
   ]
  },
  {
   "cell_type": "markdown",
   "id": "74786529-c85c-4e42-ab3c-5c470203ee94",
   "metadata": {},
   "source": [
    "Rastgele Orman (Random Forest)\n",
    "Rastgele orman, birden fazla karar ağacının sonuçlarını birleştirerek daha güçlü tahminler yapmayı sağlayan bir topluluk (ensemble) öğrenme yöntemidir.\n",
    "Çalışma Prensibi\n",
    "\n",
    "Bootstrap Örnekleme: Veri setinden rastgele örneklerle alt kümeler oluşturma\n",
    "Rastgele Özellik Seçimi: Her düğümde özelliklerin bir alt kümesi kullanılır\n",
    "Ağaç Oluşturma: Her alt küme için karar ağacı oluşturma\n",
    "Topluluk Tahmini:\n",
    "\n",
    "Sınıflandırma: Çoğunluk oylaması\n",
    "Regresyon: Ortalama tahmin değeri\n",
    "\n",
    "\n",
    "\n",
    "Avantajları\n",
    "\n",
    "Aşırı öğrenmeyi azaltır\n",
    "Yüksek doğruluk sağlar\n",
    "Büyük veri setleri ve yüksek boyutlu problemlerde etkilidir\n",
    "Özellik önemini değerlendirebilir\n",
    "Gürültülü verilere karşı dayanıklıdır\n",
    "\n",
    "Dezavantajları\n",
    "\n",
    "Karar ağaçlarına göre daha az yorumlanabilir\n",
    "Eğitim süresi daha uzundur\n",
    "Ayarlanması gereken daha fazla hiperparametre vardır\n",
    "Bellek kullanımı yüksektir"
   ]
  },
  {
   "cell_type": "code",
   "execution_count": null,
   "id": "20d89e52-f41f-4f43-be7e-7dd98d730822",
   "metadata": {},
   "outputs": [],
   "source": []
  }
 ],
 "metadata": {
  "kernelspec": {
   "display_name": "Python 3 (ipykernel)",
   "language": "python",
   "name": "python3"
  },
  "language_info": {
   "codemirror_mode": {
    "name": "ipython",
    "version": 3
   },
   "file_extension": ".py",
   "mimetype": "text/x-python",
   "name": "python",
   "nbconvert_exporter": "python",
   "pygments_lexer": "ipython3",
   "version": "3.9.21"
  }
 },
 "nbformat": 4,
 "nbformat_minor": 5
}
